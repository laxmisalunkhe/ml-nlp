{
 "cells": [
  {
   "cell_type": "code",
   "execution_count": 1,
   "metadata": {},
   "outputs": [
    {
     "data": {
      "text/plain": [
       "63"
      ]
     },
     "execution_count": 1,
     "metadata": {},
     "output_type": "execute_result"
    }
   ],
   "source": [
    "text1 = \"Temporary string added to perform string operations with python\"\n",
    "len(text1)"
   ]
  },
  {
   "cell_type": "code",
   "execution_count": 2,
   "metadata": {},
   "outputs": [
    {
     "data": {
      "text/plain": [
       "9"
      ]
     },
     "execution_count": 2,
     "metadata": {},
     "output_type": "execute_result"
    }
   ],
   "source": [
    "text2 = text1.split(' ')\n",
    "\n",
    "len(text2)"
   ]
  },
  {
   "cell_type": "code",
   "execution_count": 3,
   "metadata": {},
   "outputs": [
    {
     "data": {
      "text/plain": [
       "['Temporary',\n",
       " 'string',\n",
       " 'added',\n",
       " 'to',\n",
       " 'perform',\n",
       " 'string',\n",
       " 'operations',\n",
       " 'with',\n",
       " 'python']"
      ]
     },
     "execution_count": 3,
     "metadata": {},
     "output_type": "execute_result"
    }
   ],
   "source": [
    "text2"
   ]
  },
  {
   "cell_type": "code",
   "execution_count": 4,
   "metadata": {},
   "outputs": [
    {
     "data": {
      "text/plain": [
       "['Temporary',\n",
       " 'string',\n",
       " 'added',\n",
       " 'perform',\n",
       " 'string',\n",
       " 'operations',\n",
       " 'with',\n",
       " 'python']"
      ]
     },
     "execution_count": 4,
     "metadata": {},
     "output_type": "execute_result"
    }
   ],
   "source": [
    "[w for w in text2 if len(w) > 3] "
   ]
  },
  {
   "cell_type": "code",
   "execution_count": 5,
   "metadata": {},
   "outputs": [
    {
     "data": {
      "text/plain": [
       "['Temporary']"
      ]
     },
     "execution_count": 5,
     "metadata": {},
     "output_type": "execute_result"
    }
   ],
   "source": [
    "[w for w in text2 if w.istitle()] "
   ]
  },
  {
   "cell_type": "code",
   "execution_count": 6,
   "metadata": {},
   "outputs": [
    {
     "data": {
      "text/plain": [
       "['operations']"
      ]
     },
     "execution_count": 6,
     "metadata": {},
     "output_type": "execute_result"
    }
   ],
   "source": [
    "[w for w in text2 if w.endswith('s')]"
   ]
  },
  {
   "cell_type": "code",
   "execution_count": 7,
   "metadata": {},
   "outputs": [
    {
     "data": {
      "text/plain": [
       "6"
      ]
     },
     "execution_count": 7,
     "metadata": {},
     "output_type": "execute_result"
    }
   ],
   "source": [
    "text3 = 'To be or not to be'\n",
    "text4 = text3.split(' ')\n",
    "\n",
    "len(text4)"
   ]
  },
  {
   "cell_type": "code",
   "execution_count": 8,
   "metadata": {},
   "outputs": [
    {
     "data": {
      "text/plain": [
       "5"
      ]
     },
     "execution_count": 8,
     "metadata": {},
     "output_type": "execute_result"
    }
   ],
   "source": [
    "len(set(text4))"
   ]
  },
  {
   "cell_type": "code",
   "execution_count": 9,
   "metadata": {},
   "outputs": [
    {
     "data": {
      "text/plain": [
       "{'To', 'be', 'not', 'or', 'to'}"
      ]
     },
     "execution_count": 9,
     "metadata": {},
     "output_type": "execute_result"
    }
   ],
   "source": [
    "set(text4)"
   ]
  },
  {
   "cell_type": "code",
   "execution_count": 10,
   "metadata": {},
   "outputs": [
    {
     "data": {
      "text/plain": [
       "4"
      ]
     },
     "execution_count": 10,
     "metadata": {},
     "output_type": "execute_result"
    }
   ],
   "source": [
    "len(set([w.lower() for w in text4])) "
   ]
  },
  {
   "cell_type": "code",
   "execution_count": 11,
   "metadata": {},
   "outputs": [
    {
     "data": {
      "text/plain": [
       "{'be', 'not', 'or', 'to'}"
      ]
     },
     "execution_count": 11,
     "metadata": {},
     "output_type": "execute_result"
    }
   ],
   "source": [
    "set([w.lower() for w in text4])"
   ]
  },
  {
   "cell_type": "code",
   "execution_count": 12,
   "metadata": {},
   "outputs": [
    {
     "data": {
      "text/plain": [
       "['\"Ethics',\n",
       " 'are',\n",
       " 'built',\n",
       " 'right',\n",
       " 'into',\n",
       " 'the',\n",
       " 'ideals',\n",
       " 'and',\n",
       " 'objectives',\n",
       " 'of',\n",
       " 'the',\n",
       " 'United',\n",
       " 'Nations\"',\n",
       " '#UNSG',\n",
       " '@',\n",
       " 'NY',\n",
       " 'Society',\n",
       " 'for',\n",
       " 'Ethical',\n",
       " 'Culture',\n",
       " 'bit.ly/2guVelr']"
      ]
     },
     "execution_count": 12,
     "metadata": {},
     "output_type": "execute_result"
    }
   ],
   "source": [
    "text5 = '\"Ethics are built right into the ideals and objectives of the United Nations\" \\\n",
    "#UNSG @ NY Society for Ethical Culture bit.ly/2guVelr'\n",
    "text6 = text5.split(' ')\n",
    "\n",
    "text6"
   ]
  },
  {
   "cell_type": "code",
   "execution_count": 13,
   "metadata": {},
   "outputs": [
    {
     "data": {
      "text/plain": [
       "['#UNSG']"
      ]
     },
     "execution_count": 13,
     "metadata": {},
     "output_type": "execute_result"
    }
   ],
   "source": [
    "[w for w in text6 if w.startswith('#')]"
   ]
  },
  {
   "cell_type": "code",
   "execution_count": 14,
   "metadata": {},
   "outputs": [
    {
     "data": {
      "text/plain": [
       "['@']"
      ]
     },
     "execution_count": 14,
     "metadata": {},
     "output_type": "execute_result"
    }
   ],
   "source": [
    "[w for w in text6 if w.startswith('@')]"
   ]
  },
  {
   "cell_type": "code",
   "execution_count": 15,
   "metadata": {},
   "outputs": [],
   "source": [
    "text7 = '@UN @UN_Women \"Ethics are built right into the ideals and objectives of the United Nations\" \\\n",
    "#UNSG @ NY Society for Ethical Culture bit.ly/2guVelr'\n",
    "text8 = text7.split(' ')"
   ]
  },
  {
   "cell_type": "code",
   "execution_count": 16,
   "metadata": {},
   "outputs": [
    {
     "data": {
      "text/plain": [
       "['@UN', '@UN_Women']"
      ]
     },
     "execution_count": 16,
     "metadata": {},
     "output_type": "execute_result"
    }
   ],
   "source": [
    "import re\n",
    "\n",
    "[w for w in text8 if re.search('@[A-Za-z0-9_]+', w)]"
   ]
  },
  {
   "cell_type": "code",
   "execution_count": 17,
   "metadata": {},
   "outputs": [
    {
     "name": "stdout",
     "output_type": "stream",
     "text": [
      "Choose value of \"n\" to obtain different n-grams (n=2, gives bi-gram, n = 3 gives tri-gram and so on..)\n",
      "\n",
      "[['it', 'was'], ['was', 'the'], ['the', 'best'], ['best', 'of'], ['of', 'times'], ['times', 'it'], ['it', 'was'], ['was', 'the'], ['the', 'worst'], ['worst', 'of'], ['of', 'times.'], ['times.', 'it'], ['it', 'was'], ['was', 'the'], ['the', 'age'], ['age', 'of'], ['of', 'wisdom'], ['wisdom', 'it'], ['it', 'was'], ['was', 'the'], ['the', 'age'], ['age', 'of'], ['of', 'foolishness']]\n"
     ]
    }
   ],
   "source": [
    "def generate_ngrams(text, n):\n",
    "    words = text.split()\n",
    "    output = []  \n",
    "    for i in range(len(words)-n+1):\n",
    "        output.append(words[i:i+n])\n",
    "    return output\n",
    "\n",
    "text = 'it was the best of times it was the worst of times. it was the age of wisdom it was the age of foolishness'\n",
    "\n",
    "print('Choose value of \"n\" to obtain different n-grams (n=2, gives bi-gram, n = 3 gives tri-gram and so on..)\\n')\n",
    "\n",
    "n = 2\n",
    "print(generate_ngrams(text, n))\n"
   ]
  },
  {
   "cell_type": "code",
   "execution_count": 18,
   "metadata": {},
   "outputs": [
    {
     "data": {
      "text/plain": [
       "'Sample message Notice it has punctuation'"
      ]
     },
     "execution_count": 18,
     "metadata": {},
     "output_type": "execute_result"
    }
   ],
   "source": [
    "import string\n",
    "mess = 'Sample message! Notice: it has punctuation.'\n",
    "\n",
    "nopunc = [char for char in mess if char not in string.punctuation]\n",
    "\n",
    "nopunc = ''.join(nopunc)\n",
    "nopunc"
   ]
  },
  {
   "cell_type": "code",
   "execution_count": 19,
   "metadata": {},
   "outputs": [
    {
     "data": {
      "text/plain": [
       "{'it': 4,\n",
       " 'was': 4,\n",
       " 'the': 4,\n",
       " 'best': 1,\n",
       " 'of': 4,\n",
       " 'times': 1,\n",
       " 'worst': 1,\n",
       " 'times.': 1,\n",
       " 'age': 2,\n",
       " 'wisdom': 1,\n",
       " 'foolishness': 1}"
      ]
     },
     "execution_count": 19,
     "metadata": {},
     "output_type": "execute_result"
    }
   ],
   "source": [
    "import collections\n",
    "text = 'it was the best of times it was the worst of times. it was the age of wisdom it was the age of foolishness'\n",
    "cnt = collections.Counter(text.split())\n",
    "dict(cnt)"
   ]
  },
  {
   "cell_type": "code",
   "execution_count": 20,
   "metadata": {},
   "outputs": [
    {
     "data": {
      "text/html": [
       "<div>\n",
       "<style scoped>\n",
       "    .dataframe tbody tr th:only-of-type {\n",
       "        vertical-align: middle;\n",
       "    }\n",
       "\n",
       "    .dataframe tbody tr th {\n",
       "        vertical-align: top;\n",
       "    }\n",
       "\n",
       "    .dataframe thead th {\n",
       "        text-align: right;\n",
       "    }\n",
       "</style>\n",
       "<table border=\"1\" class=\"dataframe\">\n",
       "  <thead>\n",
       "    <tr style=\"text-align: right;\">\n",
       "      <th></th>\n",
       "      <th>Terms</th>\n",
       "      <th>Frequency</th>\n",
       "    </tr>\n",
       "  </thead>\n",
       "  <tbody>\n",
       "    <tr>\n",
       "      <th>0</th>\n",
       "      <td>(it, was, the, best, of, times, worst, times.,...</td>\n",
       "      <td>(4, 4, 4, 1, 4, 1, 1, 1, 2, 1, 1)</td>\n",
       "    </tr>\n",
       "    <tr>\n",
       "      <th>1</th>\n",
       "      <td>(it, was, the, best, of, times, worst, times.,...</td>\n",
       "      <td>(4, 4, 4, 1, 4, 1, 1, 1, 2, 1, 1)</td>\n",
       "    </tr>\n",
       "    <tr>\n",
       "      <th>2</th>\n",
       "      <td>(it, was, the, best, of, times, worst, times.,...</td>\n",
       "      <td>(4, 4, 4, 1, 4, 1, 1, 1, 2, 1, 1)</td>\n",
       "    </tr>\n",
       "    <tr>\n",
       "      <th>3</th>\n",
       "      <td>(it, was, the, best, of, times, worst, times.,...</td>\n",
       "      <td>(4, 4, 4, 1, 4, 1, 1, 1, 2, 1, 1)</td>\n",
       "    </tr>\n",
       "    <tr>\n",
       "      <th>4</th>\n",
       "      <td>(it, was, the, best, of, times, worst, times.,...</td>\n",
       "      <td>(4, 4, 4, 1, 4, 1, 1, 1, 2, 1, 1)</td>\n",
       "    </tr>\n",
       "    <tr>\n",
       "      <th>5</th>\n",
       "      <td>(it, was, the, best, of, times, worst, times.,...</td>\n",
       "      <td>(4, 4, 4, 1, 4, 1, 1, 1, 2, 1, 1)</td>\n",
       "    </tr>\n",
       "    <tr>\n",
       "      <th>6</th>\n",
       "      <td>(it, was, the, best, of, times, worst, times.,...</td>\n",
       "      <td>(4, 4, 4, 1, 4, 1, 1, 1, 2, 1, 1)</td>\n",
       "    </tr>\n",
       "    <tr>\n",
       "      <th>7</th>\n",
       "      <td>(it, was, the, best, of, times, worst, times.,...</td>\n",
       "      <td>(4, 4, 4, 1, 4, 1, 1, 1, 2, 1, 1)</td>\n",
       "    </tr>\n",
       "    <tr>\n",
       "      <th>8</th>\n",
       "      <td>(it, was, the, best, of, times, worst, times.,...</td>\n",
       "      <td>(4, 4, 4, 1, 4, 1, 1, 1, 2, 1, 1)</td>\n",
       "    </tr>\n",
       "    <tr>\n",
       "      <th>9</th>\n",
       "      <td>(it, was, the, best, of, times, worst, times.,...</td>\n",
       "      <td>(4, 4, 4, 1, 4, 1, 1, 1, 2, 1, 1)</td>\n",
       "    </tr>\n",
       "    <tr>\n",
       "      <th>10</th>\n",
       "      <td>(it, was, the, best, of, times, worst, times.,...</td>\n",
       "      <td>(4, 4, 4, 1, 4, 1, 1, 1, 2, 1, 1)</td>\n",
       "    </tr>\n",
       "  </tbody>\n",
       "</table>\n",
       "</div>"
      ],
      "text/plain": [
       "                                                Terms  \\\n",
       "0   (it, was, the, best, of, times, worst, times.,...   \n",
       "1   (it, was, the, best, of, times, worst, times.,...   \n",
       "2   (it, was, the, best, of, times, worst, times.,...   \n",
       "3   (it, was, the, best, of, times, worst, times.,...   \n",
       "4   (it, was, the, best, of, times, worst, times.,...   \n",
       "5   (it, was, the, best, of, times, worst, times.,...   \n",
       "6   (it, was, the, best, of, times, worst, times.,...   \n",
       "7   (it, was, the, best, of, times, worst, times.,...   \n",
       "8   (it, was, the, best, of, times, worst, times.,...   \n",
       "9   (it, was, the, best, of, times, worst, times.,...   \n",
       "10  (it, was, the, best, of, times, worst, times.,...   \n",
       "\n",
       "                            Frequency  \n",
       "0   (4, 4, 4, 1, 4, 1, 1, 1, 2, 1, 1)  \n",
       "1   (4, 4, 4, 1, 4, 1, 1, 1, 2, 1, 1)  \n",
       "2   (4, 4, 4, 1, 4, 1, 1, 1, 2, 1, 1)  \n",
       "3   (4, 4, 4, 1, 4, 1, 1, 1, 2, 1, 1)  \n",
       "4   (4, 4, 4, 1, 4, 1, 1, 1, 2, 1, 1)  \n",
       "5   (4, 4, 4, 1, 4, 1, 1, 1, 2, 1, 1)  \n",
       "6   (4, 4, 4, 1, 4, 1, 1, 1, 2, 1, 1)  \n",
       "7   (4, 4, 4, 1, 4, 1, 1, 1, 2, 1, 1)  \n",
       "8   (4, 4, 4, 1, 4, 1, 1, 1, 2, 1, 1)  \n",
       "9   (4, 4, 4, 1, 4, 1, 1, 1, 2, 1, 1)  \n",
       "10  (4, 4, 4, 1, 4, 1, 1, 1, 2, 1, 1)  "
      ]
     },
     "execution_count": 20,
     "metadata": {},
     "output_type": "execute_result"
    }
   ],
   "source": [
    "import pandas as pd\n",
    "dict_cnt=dict(cnt)\n",
    "\n",
    "\n",
    "df_cnt=pd.DataFrame({'Terms':dict_cnt.keys(),'Frequency':dict_cnt.values()})\n",
    "df_cnt[['Terms','Frequency']]"
   ]
  }
 ],
 "metadata": {
  "kernelspec": {
   "display_name": "Python 3",
   "language": "python",
   "name": "python3"
  },
  "language_info": {
   "codemirror_mode": {
    "name": "ipython",
    "version": 3
   },
   "file_extension": ".py",
   "mimetype": "text/x-python",
   "name": "python",
   "nbconvert_exporter": "python",
   "pygments_lexer": "ipython3",
   "version": "3.7.3"
  }
 },
 "nbformat": 4,
 "nbformat_minor": 1
}
