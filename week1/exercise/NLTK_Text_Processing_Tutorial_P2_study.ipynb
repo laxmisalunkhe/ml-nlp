{
 "cells": [
  {
   "cell_type": "code",
   "execution_count": 1,
   "metadata": {},
   "outputs": [],
   "source": [
    "from nltk.corpus import wordnet"
   ]
  },
  {
   "cell_type": "code",
   "execution_count": 2,
   "metadata": {},
   "outputs": [
    {
     "data": {
      "text/plain": [
       "[Synset('procedure.n.01'),\n",
       " Synset('process.n.02'),\n",
       " Synset('summons.n.03'),\n",
       " Synset('process.n.04'),\n",
       " Synset('process.n.05'),\n",
       " Synset('process.n.06'),\n",
       " Synset('process.v.01'),\n",
       " Synset('process.v.02'),\n",
       " Synset('process.v.03'),\n",
       " Synset('action.v.01'),\n",
       " Synset('march.v.01'),\n",
       " Synset('work.v.05'),\n",
       " Synset('serve.v.11')]"
      ]
     },
     "execution_count": 2,
     "metadata": {},
     "output_type": "execute_result"
    }
   ],
   "source": [
    "word1 = 'process'\n",
    "sync_word1=wordnet.synsets(word1)\n",
    "sync_word1"
   ]
  },
  {
   "cell_type": "code",
   "execution_count": 4,
   "metadata": {},
   "outputs": [
    {
     "name": "stdout",
     "output_type": "stream",
     "text": [
      "Word Name(): procedure.n.01 Pos():  n\n"
     ]
    }
   ],
   "source": [
    "sync_word1_0=sync_word1[0];\n",
    "print('Word Name():', sync_word1_0.name(), 'Pos(): ', sync_word1_0.pos())"
   ]
  },
  {
   "cell_type": "code",
   "execution_count": 6,
   "metadata": {},
   "outputs": [
    {
     "name": "stdout",
     "output_type": "stream",
     "text": [
      "a particular course of action intended to achieve a result\n"
     ]
    }
   ],
   "source": [
    "print('definition():', sync_word1_0.definition())"
   ]
  },
  {
   "cell_type": "code",
   "execution_count": 9,
   "metadata": {},
   "outputs": [
    {
     "name": "stdout",
     "output_type": "stream",
     "text": [
      "[Synset('activity.n.01')]\n"
     ]
    }
   ],
   "source": [
    "print('hypernyms():', sync_word1_0.hypernyms())"
   ]
  },
  {
   "cell_type": "code",
   "execution_count": 10,
   "metadata": {},
   "outputs": [
    {
     "name": "stdout",
     "output_type": "stream",
     "text": [
      "[Synset('bertillon_system.n.01'), Synset('calculation.n.01'), Synset('condition.n.08'), Synset('diagnostic_procedure.n.01'), Synset('emergency_procedure.n.01'), Synset('experimental_procedure.n.01'), Synset('fingerprinting.n.01'), Synset('genetic_profiling.n.01'), Synset('indirection.n.01'), Synset('mapping.n.02'), Synset('medical_procedure.n.01'), Synset('operating_procedure.n.01'), Synset('rigmarole.n.02'), Synset('routine.n.01'), Synset('rule.n.11'), Synset('stiffening.n.01')]\n"
     ]
    }
   ],
   "source": [
    "print('hyponyms():', sync_word1_0.hyponyms())"
   ]
  },
  {
   "cell_type": "code",
   "execution_count": 11,
   "metadata": {},
   "outputs": [
    {
     "name": "stdout",
     "output_type": "stream",
     "text": [
      "hypernym_paths(): [[Synset('entity.n.01'), Synset('abstraction.n.06'), Synset('psychological_feature.n.01'), Synset('event.n.01'), Synset('act.n.02'), Synset('activity.n.01'), Synset('procedure.n.01')]]\n"
     ]
    }
   ],
   "source": [
    "print('hypernym_paths():', sync_word1_0.hypernym_paths())"
   ]
  },
  {
   "cell_type": "code",
   "execution_count": 12,
   "metadata": {},
   "outputs": [
    {
     "name": "stdout",
     "output_type": "stream",
     "text": [
      "[Lemma('win.v.01.win')]\n"
     ]
    },
    {
     "data": {
      "text/plain": [
       "Lemma('win.v.01.win')"
      ]
     },
     "execution_count": 12,
     "metadata": {},
     "output_type": "execute_result"
    }
   ],
   "source": [
    "synsets_list=wordnet.synsets('win')\n",
    "woi=synsets_list[2]\n",
    "print(woi.lemmas())\n",
    "woi.lemmas()[0]"
   ]
  },
  {
   "cell_type": "code",
   "execution_count": 13,
   "metadata": {},
   "outputs": [
    {
     "name": "stdout",
     "output_type": "stream",
     "text": [
      "20 14 {'winnings', 'deliver_the_goods', 'profits', 'gain', 'come_through', 'win', 'succeed', 'acquire', 'advance', 'gain_ground', 'pull_ahead', 'bring_home_the_bacon', 'get_ahead', 'make_headway'}\n"
     ]
    }
   ],
   "source": [
    "Synonyms_list=[]\n",
    "for syn_ in synsets_list:\n",
    "    for lem_ in syn_.lemmas():\n",
    "        Synonyms_list.append(lem_.name())\n",
    "print(len(Synonyms_list),len(set(Synonyms_list)),set(Synonyms_list))"
   ]
  },
  {
   "cell_type": "code",
   "execution_count": 14,
   "metadata": {},
   "outputs": [
    {
     "name": "stdout",
     "output_type": "stream",
     "text": [
      "5 4 {'fail', 'lose', 'fall_back', 'losings'}\n"
     ]
    }
   ],
   "source": [
    "Antonyms_list=[]\n",
    "for syn_ in synsets_list:\n",
    "    for lem_ in syn_.lemmas():\n",
    "        for ant in lem_.antonyms():\n",
    "            Antonyms_list.append(ant.name())\n",
    "print(len(Antonyms_list),len(set(Antonyms_list)),set(Antonyms_list))"
   ]
  },
  {
   "cell_type": "code",
   "execution_count": 15,
   "metadata": {},
   "outputs": [],
   "source": [
    "syns1=wordnet.synsets('cake')\n",
    "syns2=wordnet.synsets('loaf')\n",
    "syns3=wordnet.synsets('bread')"
   ]
  },
  {
   "cell_type": "code",
   "execution_count": 16,
   "metadata": {},
   "outputs": [
    {
     "name": "stdout",
     "output_type": "stream",
     "text": [
      "[Synset('cake.n.01'), Synset('patty.n.01'), Synset('cake.n.03'), Synset('coat.v.03')]\n"
     ]
    }
   ],
   "source": [
    "print(syns1)\n",
    "cake=syns1[0]"
   ]
  },
  {
   "cell_type": "code",
   "execution_count": 17,
   "metadata": {},
   "outputs": [
    {
     "name": "stdout",
     "output_type": "stream",
     "text": [
      "[Synset('loaf_of_bread.n.01'), Synset('loaf.n.02'), Synset('bum.v.02'), Synset('loiter.v.01')]\n"
     ]
    }
   ],
   "source": [
    "print(syns2)\n",
    "loafb=syns2[0]\n",
    "loaf=syns2[1]"
   ]
  },
  {
   "cell_type": "code",
   "execution_count": 18,
   "metadata": {},
   "outputs": [
    {
     "name": "stdout",
     "output_type": "stream",
     "text": [
      "[Synset('bread.n.01'), Synset('boodle.n.01'), Synset('bread.v.01')]\n"
     ]
    }
   ],
   "source": [
    "print(syns3)\n",
    "bread=syns3[0]"
   ]
  },
  {
   "cell_type": "code",
   "execution_count": 19,
   "metadata": {},
   "outputs": [
    {
     "name": "stdout",
     "output_type": "stream",
     "text": [
      "Synset('cake.n.01') Synset('loaf.n.02') Synset('loaf_of_bread.n.01') Synset('bread.n.01')\n"
     ]
    }
   ],
   "source": [
    "print(cake,loaf,loafb,bread)"
   ]
  },
  {
   "cell_type": "code",
   "execution_count": 20,
   "metadata": {},
   "outputs": [
    {
     "name": "stdout",
     "output_type": "stream",
     "text": [
      "0.3076923076923077 0.2857142857142857\n"
     ]
    }
   ],
   "source": [
    "print(cake.wup_similarity(loaf),cake.wup_similarity(bread))"
   ]
  },
  {
   "cell_type": "code",
   "execution_count": 21,
   "metadata": {},
   "outputs": [
    {
     "name": "stdout",
     "output_type": "stream",
     "text": [
      "0.7142857142857143\n"
     ]
    }
   ],
   "source": [
    "print(loaf.wup_similarity(loafb))"
   ]
  },
  {
   "cell_type": "code",
   "execution_count": 22,
   "metadata": {},
   "outputs": [
    {
     "name": "stdout",
     "output_type": "stream",
     "text": [
      "0.2857142857142857 0.7692307692307693 0.9411764705882353\n"
     ]
    }
   ],
   "source": [
    "print(bread.wup_similarity(cake),bread.wup_similarity(loaf),bread.wup_similarity(loafb))"
   ]
  },
  {
   "cell_type": "code",
   "execution_count": 23,
   "metadata": {},
   "outputs": [
    {
     "data": {
      "text/plain": [
       "1"
      ]
     },
     "execution_count": 23,
     "metadata": {},
     "output_type": "execute_result"
    }
   ],
   "source": [
    "reff=loaf.hypernyms()[0]\n",
    "loaf.shortest_path_distance(reff)"
   ]
  },
  {
   "cell_type": "code",
   "execution_count": 24,
   "metadata": {},
   "outputs": [
    {
     "data": {
      "text/plain": [
       "2"
      ]
     },
     "execution_count": 24,
     "metadata": {},
     "output_type": "execute_result"
    }
   ],
   "source": [
    "bread.shortest_path_distance(reff)"
   ]
  },
  {
   "cell_type": "code",
   "execution_count": 25,
   "metadata": {},
   "outputs": [
    {
     "data": {
      "text/plain": [
       "3"
      ]
     },
     "execution_count": 25,
     "metadata": {},
     "output_type": "execute_result"
    }
   ],
   "source": [
    "loafb.shortest_path_distance(reff)"
   ]
  },
  {
   "cell_type": "code",
   "execution_count": 26,
   "metadata": {},
   "outputs": [
    {
     "data": {
      "text/plain": [
       "8"
      ]
     },
     "execution_count": 26,
     "metadata": {},
     "output_type": "execute_result"
    }
   ],
   "source": [
    "cake.shortest_path_distance(reff)"
   ]
  },
  {
   "cell_type": "code",
   "execution_count": 27,
   "metadata": {},
   "outputs": [
    {
     "name": "stdout",
     "output_type": "stream",
     "text": [
      "[Synset('cat.n.01'), Synset('guy.n.01'), Synset('cat.n.03'), Synset('kat.n.01'), Synset('cat-o'-nine-tails.n.01'), Synset('caterpillar.n.02'), Synset('big_cat.n.01'), Synset('computerized_tomography.n.01'), Synset('cat.v.01'), Synset('vomit.v.01')]\n"
     ]
    }
   ],
   "source": [
    "cat_synsets=wordnet.synsets('cat')\n",
    "print(cat_synsets)"
   ]
  },
  {
   "cell_type": "code",
   "execution_count": 28,
   "metadata": {},
   "outputs": [
    {
     "name": "stdout",
     "output_type": "stream",
     "text": [
      "[Synset('dog.n.01'), Synset('frump.n.01'), Synset('dog.n.03'), Synset('cad.n.01'), Synset('frank.n.02'), Synset('pawl.n.01'), Synset('andiron.n.01'), Synset('chase.v.01')]\n"
     ]
    }
   ],
   "source": [
    "dog_synsets=wordnet.synsets('dog')\n",
    "print(dog_synsets)"
   ]
  },
  {
   "cell_type": "code",
   "execution_count": 29,
   "metadata": {},
   "outputs": [
    {
     "name": "stdout",
     "output_type": "stream",
     "text": [
      "Wu Palmer Similarity : 0.8571428571428571\n",
      "shortest path distance : 4\n",
      "path Similarity : 0.2\n",
      "LCH Similarity : 2.0281482472922856\n"
     ]
    }
   ],
   "source": [
    "coi=cat_synsets[0]\n",
    "doi=dog_synsets[0]\n",
    "print('Wu Palmer Similarity : {}'.format(doi.wup_similarity(coi)))\n",
    "print('shortest path distance : {}'.format(doi.shortest_path_distance(coi)))\n",
    "print('path Similarity : {}'.format(doi.path_similarity(coi)))\n",
    "print('LCH Similarity : {}'.format(doi.lch_similarity(coi)))"
   ]
  },
  {
   "cell_type": "code",
   "execution_count": null,
   "metadata": {},
   "outputs": [],
   "source": []
  }
 ],
 "metadata": {
  "kernelspec": {
   "display_name": "Python 3",
   "language": "python",
   "name": "python3"
  },
  "language_info": {
   "codemirror_mode": {
    "name": "ipython",
    "version": 3
   },
   "file_extension": ".py",
   "mimetype": "text/x-python",
   "name": "python",
   "nbconvert_exporter": "python",
   "pygments_lexer": "ipython3",
   "version": "3.7.3"
  }
 },
 "nbformat": 4,
 "nbformat_minor": 2
}
