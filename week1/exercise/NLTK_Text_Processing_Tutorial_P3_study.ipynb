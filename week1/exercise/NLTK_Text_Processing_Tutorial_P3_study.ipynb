{
 "cells": [
  {
   "cell_type": "code",
   "execution_count": 1,
   "metadata": {},
   "outputs": [
    {
     "name": "stdout",
     "output_type": "stream",
     "text": [
      "['i', 'me', 'my', 'myself', 'we', 'our', 'ours', 'ourselves', 'you', \"you're\"]\n"
     ]
    }
   ],
   "source": [
    "from nltk.corpus import webtext\n",
    "from nltk.collocations import BigramCollocationFinder, TrigramCollocationFinder\n",
    "from nltk.metrics import BigramAssocMeasures, TrigramAssocMeasures\n",
    "from nltk.corpus import stopwords\n",
    "\n",
    "English_stopword=stopwords.words('english')\n",
    "print(English_stopword[0:10])"
   ]
  },
  {
   "cell_type": "code",
   "execution_count": 2,
   "metadata": {},
   "outputs": [
    {
     "name": "stdout",
     "output_type": "stream",
     "text": [
      "['pirates', 'of', 'the', 'carribean', ':', 'dead', 'man', \"'\", 's', 'chest', ',', 'by', 'ted', 'elliott', '&', 'terry', 'rossio', '[', 'view', 'looking', 'straight', 'down', 'at', 'rolling', 'swells', ',', 'sound', 'of', 'wind', 'and', 'thunder', ',', 'then', 'a', 'low', 'heartbeat', ']', 'scene', ':', 'port', 'royal', '[', 'teacups', 'on', 'a', 'table', 'in', 'the', 'rain', ']']\n"
     ]
    }
   ],
   "source": [
    "textwords=[w.lower() for w in webtext.words('pirates.txt')]\n",
    "print(textwords[0:50])"
   ]
  },
  {
   "cell_type": "code",
   "execution_count": 3,
   "metadata": {},
   "outputs": [
    {
     "name": "stdout",
     "output_type": "stream",
     "text": [
      "[(\"'\", 's'), ('jack', 'sparrow'), (']', '['), ('will', 'turner'), ('sparrow', ':'), ('elizabeth', 'swann'), ('turner', ':'), ('davy', 'jones'), ('swann', ':'), (\"'\", 't')]\n"
     ]
    }
   ],
   "source": [
    "finder=BigramCollocationFinder.from_words(textwords)\n",
    "bigram10=finder.nbest(BigramAssocMeasures.likelihood_ratio, 10)\n",
    "print(bigram10)"
   ]
  },
  {
   "cell_type": "code",
   "execution_count": 4,
   "metadata": {},
   "outputs": [],
   "source": [
    "filter_stop=lambda w:len(w)<3 or w in English_stopword\n",
    "finder.apply_word_filter(filter_stop)"
   ]
  },
  {
   "cell_type": "code",
   "execution_count": 5,
   "metadata": {},
   "outputs": [
    {
     "name": "stdout",
     "output_type": "stream",
     "text": [
      "[('jack', 'sparrow'), ('elizabeth', 'swann'), ('davy', 'jones'), ('flying', 'dutchman'), ('lord', 'cutler'), ('cutler', 'beckett'), ('black', 'pearl'), ('tia', 'dalma'), ('cannibal', 'island'), ('port', 'royal')]\n"
     ]
    }
   ],
   "source": [
    "bigram10=finder.nbest(BigramAssocMeasures.likelihood_ratio, 10)\n",
    "print(bigram10)"
   ]
  },
  {
   "cell_type": "code",
   "execution_count": 6,
   "metadata": {
    "scrolled": true
   },
   "outputs": [
    {
     "name": "stdout",
     "output_type": "stream",
     "text": [
      "[('jack', 'sparrow', ':'), ('will', 'turner', ':'), (']', 'jack', 'sparrow'), (']', '[', 'jack'), ('.', 'jack', 'sparrow'), ('it', \"'\", 's'), ('there', \"'\", 's'), ('?', 'jack', 'sparrow'), (\"'\", 's', 'parrot'), ('that', \"'\", 's')]\n"
     ]
    }
   ],
   "source": [
    "finder=TrigramCollocationFinder.from_words(textwords)\n",
    "trigram10=finder.nbest(TrigramAssocMeasures.likelihood_ratio, 10)\n",
    "print(trigram10)"
   ]
  },
  {
   "cell_type": "code",
   "execution_count": 7,
   "metadata": {},
   "outputs": [
    {
     "name": "stdout",
     "output_type": "stream",
     "text": [
      "[('jack', 'sparrow', 'sent'), ('!\"]', 'jack', 'sparrow'), ('mourning', 'jack', 'sparrow'), ('named', 'jack', 'sparrow'), ('captain', 'jack', 'sparrow'), ('efforts', 'jack', 'sparrow'), ('ensure', 'jack', 'sparrow'), ('jack', 'sparrow', 'bodes'), ('even', 'jack', 'sparrow'), ('...', 'jack', 'sparrow')]\n"
     ]
    }
   ],
   "source": [
    "finder.apply_word_filter(filter_stop)\n",
    "trigram10=finder.nbest(TrigramAssocMeasures.likelihood_ratio, 10)\n",
    "print(trigram10)"
   ]
  },
  {
   "cell_type": "code",
   "execution_count": 8,
   "metadata": {},
   "outputs": [],
   "source": [
    "finder.apply_freq_filter(3)"
   ]
  },
  {
   "cell_type": "code",
   "execution_count": 9,
   "metadata": {},
   "outputs": [],
   "source": [
    "trigram10=finder.nbest(TrigramAssocMeasures.likelihood_ratio, 10)"
   ]
  },
  {
   "cell_type": "code",
   "execution_count": 10,
   "metadata": {},
   "outputs": [
    {
     "data": {
      "text/plain": [
       "[('...', 'jack', 'sparrow'),\n",
       " ('lord', 'cutler', 'beckett'),\n",
       " ('black', 'pearl', 'crew'),\n",
       " ('east', 'india', 'trading'),\n",
       " ('india', 'trading', 'company'),\n",
       " ('slow', 'motion', 'scene'),\n",
       " ('two', 'cannibal', 'women')]"
      ]
     },
     "execution_count": 10,
     "metadata": {},
     "output_type": "execute_result"
    }
   ],
   "source": [
    "trigram10"
   ]
  },
  {
   "cell_type": "code",
   "execution_count": null,
   "metadata": {},
   "outputs": [],
   "source": []
  }
 ],
 "metadata": {
  "kernelspec": {
   "display_name": "Python 3",
   "language": "python",
   "name": "python3"
  },
  "language_info": {
   "codemirror_mode": {
    "name": "ipython",
    "version": 3
   },
   "file_extension": ".py",
   "mimetype": "text/x-python",
   "name": "python",
   "nbconvert_exporter": "python",
   "pygments_lexer": "ipython3",
   "version": "3.7.3"
  }
 },
 "nbformat": 4,
 "nbformat_minor": 2
}
