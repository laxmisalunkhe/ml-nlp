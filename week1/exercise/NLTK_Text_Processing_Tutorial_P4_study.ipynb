{
 "cells": [
  {
   "cell_type": "code",
   "execution_count": 3,
   "metadata": {},
   "outputs": [],
   "source": [
    "from nltk.stem import PorterStemmer\n",
    "from nltk.stem import LancasterStemmer\n",
    "from nltk.stem import RegexpStemmer"
   ]
  },
  {
   "cell_type": "code",
   "execution_count": 5,
   "metadata": {},
   "outputs": [
    {
     "name": "stdout",
     "output_type": "stream",
     "text": [
      "cook\n",
      "danc\n",
      "play\n"
     ]
    }
   ],
   "source": [
    "porter=PorterStemmer()\n",
    "print(porter.stem('Cooking'))\n",
    "print(porter.stem('Dancing'))\n",
    "print(porter.stem('Playing'))"
   ]
  },
  {
   "cell_type": "code",
   "execution_count": 6,
   "metadata": {},
   "outputs": [
    {
     "name": "stdout",
     "output_type": "stream",
     "text": [
      "cook\n",
      "dant\n",
      "play\n"
     ]
    }
   ],
   "source": [
    "lanster=LancasterStemmer()\n",
    "print(lanster.stem('Cooking'))\n",
    "print(lanster.stem('Dancing'))\n",
    "print(lanster.stem('Playing'))"
   ]
  },
  {
   "cell_type": "code",
   "execution_count": 8,
   "metadata": {},
   "outputs": [
    {
     "name": "stdout",
     "output_type": "stream",
     "text": [
      "Cook\n",
      "Danc\n",
      "Play\n"
     ]
    }
   ],
   "source": [
    "regster=RegexpStemmer('ing')\n",
    "print(regster.stem('Cooking'))\n",
    "print(regster.stem('Dancing'))\n",
    "print(regster.stem('Playing'))"
   ]
  },
  {
   "cell_type": "code",
   "execution_count": 9,
   "metadata": {},
   "outputs": [],
   "source": [
    "from nltk.stem import WordNetLemmatizer"
   ]
  },
  {
   "cell_type": "code",
   "execution_count": 12,
   "metadata": {},
   "outputs": [
    {
     "name": "stdout",
     "output_type": "stream",
     "text": [
      "Cooking\n",
      "dancing\n"
     ]
    }
   ],
   "source": [
    "wnt=WordNetLemmatizer()\n",
    "print(wnt.lemmatize('cooking'))\n",
    "print(wnt.lemmatize('dancing'))"
   ]
  },
  {
   "cell_type": "code",
   "execution_count": 14,
   "metadata": {},
   "outputs": [
    {
     "name": "stdout",
     "output_type": "stream",
     "text": [
      "dancing\n",
      "cook\n",
      "dance\n"
     ]
    }
   ],
   "source": [
    "print(wnt.lemmatize('dancing', pos='a'))\n",
    "print(wnt.lemmatize('cooking', pos='v'))\n",
    "print(wnt.lemmatize('dancing', pos='v'))"
   ]
  },
  {
   "cell_type": "code",
   "execution_count": 16,
   "metadata": {},
   "outputs": [
    {
     "name": "stdout",
     "output_type": "stream",
     "text": [
      "Comparision of word \"belives\" ===> Lemmatization : belives vs Stemming : beliv\n"
     ]
    }
   ],
   "source": [
    "print('Comparision of word \"belives\" ===> Lemmatization : {} vs Stemming : {}'.format(wnt.lemmatize('belives'),porter.stem('belives')))"
   ]
  },
  {
   "cell_type": "code",
   "execution_count": 17,
   "metadata": {},
   "outputs": [
    {
     "name": "stdout",
     "output_type": "stream",
     "text": [
      "Comparision of word \"buses\" ===> Lemmatization : bus vs Stemming : buse\n"
     ]
    }
   ],
   "source": [
    "print('Comparision of word \"buses\" ===> Lemmatization : {} vs Stemming : {}'.format(wnt.lemmatize('buses'),porter.stem('buses')))"
   ]
  },
  {
   "cell_type": "code",
   "execution_count": null,
   "metadata": {},
   "outputs": [],
   "source": []
  }
 ],
 "metadata": {
  "kernelspec": {
   "display_name": "Python 3",
   "language": "python",
   "name": "python3"
  },
  "language_info": {
   "codemirror_mode": {
    "name": "ipython",
    "version": 3
   },
   "file_extension": ".py",
   "mimetype": "text/x-python",
   "name": "python",
   "nbconvert_exporter": "python",
   "pygments_lexer": "ipython3",
   "version": "3.7.3"
  }
 },
 "nbformat": 4,
 "nbformat_minor": 2
}
