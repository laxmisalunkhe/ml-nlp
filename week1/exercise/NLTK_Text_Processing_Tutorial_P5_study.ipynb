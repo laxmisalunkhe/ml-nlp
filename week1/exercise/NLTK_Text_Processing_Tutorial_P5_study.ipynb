{
 "cells": [
  {
   "cell_type": "code",
   "execution_count": 1,
   "metadata": {},
   "outputs": [],
   "source": [
    "import re"
   ]
  },
  {
   "cell_type": "code",
   "execution_count": 3,
   "metadata": {},
   "outputs": [
    {
     "name": "stdout",
     "output_type": "stream",
     "text": [
      "FST- I don't want to play hockey\n",
      "PST- I do not want to play hockey\n"
     ]
    }
   ],
   "source": [
    "regex=re.compile(r'don\\'t')\n",
    "fst=\"I don't want to play hockey\"\n",
    "print('FST-', fst)\n",
    "pst=regex.sub('do not', fst)\n",
    "print('PST-', pst) "
   ]
  },
  {
   "cell_type": "code",
   "execution_count": 4,
   "metadata": {},
   "outputs": [
    {
     "name": "stdout",
     "output_type": "stream",
     "text": [
      "First Statment : He 'd to go school on sunday\n",
      "Processed First Statment : He would to go school on sunday\n"
     ]
    }
   ],
   "source": [
    "regex=re.compile(r'\\'d')\n",
    "sst=\"He 'd to go school on sunday\"\n",
    "print('First Statment : {}'.format(sst))\n",
    "psst=regex.sub(\"would\",sst)\n",
    "print('Processed First Statment : {}'.format(psst))"
   ]
  },
  {
   "cell_type": "code",
   "execution_count": 6,
   "metadata": {},
   "outputs": [
    {
     "name": "stdout",
     "output_type": "stream",
     "text": [
      "i will not go there. he is a mad man. he would have to go now. do not go\n"
     ]
    }
   ],
   "source": [
    "given_pattern=[(r'won\\'t', 'will not'), (r'don\\'t', 'do not'), (r'\\'s', ' is'), (r'\\'d', ' would')]\n",
    "\n",
    "def RegexReplacer(text, pattern):\n",
    "    text=text.lower()\n",
    "    for (raw, replacer) in pattern:\n",
    "        regex=re.compile(raw)\n",
    "        text=regex.sub(replacer, text)\n",
    "    return text\n",
    "\n",
    "msg=\"I won't go there. He's a mad man. He'd have to go now. Don't go\"\n",
    "print(RegexReplacer(msg, given_pattern))"
   ]
  },
  {
   "cell_type": "code",
   "execution_count": 7,
   "metadata": {},
   "outputs": [
    {
     "name": "stdout",
     "output_type": "stream",
     "text": [
      "i will not go there. he is a mad man. he would have to go now. do not go\n"
     ]
    }
   ],
   "source": [
    "given_pattern=[(r\"won\\'t\",\"will not\"), (r\"\\'s\",\" is\"), (r\"\\'d\",\" would\"),(r\"don\\'t\",\"do not\")]\n",
    "class RegexReplacer(object):    \n",
    "    def __init__(self):\n",
    "        self.pattern=given_pattern\n",
    "    \n",
    "    def replace(self, text):\n",
    "        text=text.lower()\n",
    "        for (raw,rep) in self.pattern:\n",
    "            regex=re.compile(raw)\n",
    "            text=regex.sub(rep,text)\n",
    "        return text\n",
    "\n",
    "replacer=RegexReplacer() \n",
    "msg=\"I won't go there. He's a mad man. He'd have to go now. Don't go\"\n",
    "msg_=replacer.replace(msg)\n",
    "print(msg_)"
   ]
  },
  {
   "cell_type": "code",
   "execution_count": 8,
   "metadata": {},
   "outputs": [
    {
     "data": {
      "text/plain": [
       "'caaaaaaaaaaat'"
      ]
     },
     "execution_count": 8,
     "metadata": {},
     "output_type": "execute_result"
    }
   ],
   "source": [
    "dum='caaaaaaaaaaaat'\n",
    "regex=re.compile(r'(\\w*)(\\w)\\2(\\w*)')\n",
    "regex.sub(r'\\1\\2\\3', dum)"
   ]
  },
  {
   "cell_type": "code",
   "execution_count": 9,
   "metadata": {},
   "outputs": [
    {
     "name": "stdout",
     "output_type": "stream",
     "text": [
      "cat\n",
      "big\n",
      "who\n"
     ]
    }
   ],
   "source": [
    "def looper(fword):\n",
    "    loop_res=regex.sub(r'\\1\\2\\3',fword)\n",
    "    if (loop_res==fword):\n",
    "        return loop_res\n",
    "    else:\n",
    "        return looper(loop_res)\n",
    "        \n",
    "fword='caaaaaat'\n",
    "sword=looper(fword)\n",
    "print(sword)\n",
    "\n",
    "fword='biiiiig'\n",
    "sword=looper(fword)\n",
    "print(sword)\n",
    "\n",
    "fword='whhhoooo'\n",
    "sword=looper(fword)\n",
    "print(sword)"
   ]
  },
  {
   "cell_type": "code",
   "execution_count": 10,
   "metadata": {},
   "outputs": [
    {
     "name": "stdout",
     "output_type": "stream",
     "text": [
      "cat\n",
      "big\n",
      "who\n"
     ]
    }
   ],
   "source": [
    "class RepeatReplacer(object):    \n",
    "    def __init__(self):\n",
    "        self.regex=re.compile(r'(\\w*)(\\w)\\2(\\w*)')\n",
    "        self.repl=r'\\1\\2\\3'\n",
    "    def replace(self,word):\n",
    "        loop_res=self.regex.sub(self.repl,word)\n",
    "        if (loop_res==word):\n",
    "            return loop_res\n",
    "        else:\n",
    "            return self.replace(loop_res)\n",
    "        \n",
    "        \n",
    "reprl=RepeatReplacer()\n",
    "\n",
    "fword='caaaaaat'\n",
    "sword=reprl.replace(fword)\n",
    "print(sword)\n",
    "\n",
    "fword='biiiiig'\n",
    "sword=reprl.replace(fword)\n",
    "print(sword)\n",
    "\n",
    "fword='whhhoooo'\n",
    "sword=reprl.replace(fword)\n",
    "print(sword)"
   ]
  },
  {
   "cell_type": "code",
   "execution_count": 11,
   "metadata": {},
   "outputs": [
    {
     "name": "stdout",
     "output_type": "stream",
     "text": [
      "bok\n"
     ]
    }
   ],
   "source": [
    "fword='book'\n",
    "sword=reprl.replace(fword)\n",
    "print(sword)"
   ]
  },
  {
   "cell_type": "code",
   "execution_count": 12,
   "metadata": {},
   "outputs": [
    {
     "name": "stdout",
     "output_type": "stream",
     "text": [
      "book\n",
      "bat\n",
      "bottle\n",
      "nice\n"
     ]
    }
   ],
   "source": [
    "from nltk.corpus import wordnet\n",
    "class RepeatReplacer(object):    \n",
    "    def __init__(self):\n",
    "        self.regex=re.compile(r'(\\w*)(\\w)\\2(\\w*)')\n",
    "        self.repl=r'\\1\\2\\3'\n",
    "    def replace(self,word):\n",
    "        if wordnet.synsets(word):\n",
    "            return word\n",
    "        loop_res=self.regex.sub(self.repl,word)\n",
    "        if (loop_res==word):\n",
    "            return loop_res\n",
    "        else:\n",
    "            return self.replace(loop_res)\n",
    "        \n",
    "fword='book'\n",
    "reprl=RepeatReplacer()\n",
    "sword=reprl.replace(fword)\n",
    "print(sword)        \n",
    "\n",
    "fword='baaaatttt'\n",
    "reprl=RepeatReplacer()\n",
    "sword=reprl.replace(fword)\n",
    "print(sword)        \n",
    "\n",
    "fword='bottttllllee'\n",
    "reprl=RepeatReplacer()\n",
    "sword=reprl.replace(fword)\n",
    "print(sword)        \n",
    "\n",
    "fword='niiiiceee'\n",
    "reprl=RepeatReplacer()\n",
    "sword=reprl.replace(fword)\n",
    "print(sword)        "
   ]
  },
  {
   "cell_type": "code",
   "execution_count": null,
   "metadata": {},
   "outputs": [],
   "source": []
  }
 ],
 "metadata": {
  "kernelspec": {
   "display_name": "Python 3",
   "language": "python",
   "name": "python3"
  },
  "language_info": {
   "codemirror_mode": {
    "name": "ipython",
    "version": 3
   },
   "file_extension": ".py",
   "mimetype": "text/x-python",
   "name": "python",
   "nbconvert_exporter": "python",
   "pygments_lexer": "ipython3",
   "version": "3.7.3"
  }
 },
 "nbformat": 4,
 "nbformat_minor": 2
}
