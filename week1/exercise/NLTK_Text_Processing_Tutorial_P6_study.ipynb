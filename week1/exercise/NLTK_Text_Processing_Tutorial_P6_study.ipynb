{
 "cells": [
  {
   "cell_type": "code",
   "execution_count": 2,
   "metadata": {},
   "outputs": [
    {
     "name": "stdout",
     "output_type": "stream",
     "text": [
      "Birthday\n",
      "Happy Birthday\n",
      "Whatsupp\n"
     ]
    }
   ],
   "source": [
    "class WordReplacer(object):\n",
    "    def __init__(self, word_map):\n",
    "        self.word_map = word_map\n",
    "        \n",
    "    def replace(self, word):\n",
    "        return self.word_map.get(word, word)\n",
    "\n",
    "            \n",
    "wordmapobj={'bday':'Birthday','sup':'Whatsupp','hbd':'Happy Birthday'}\n",
    "replacer=WordReplacer(wordmapobj)\n",
    "print(replacer.replace('bday'))\n",
    "print(replacer.replace('hbd'))\n",
    "print(replacer.replace('sup'))"
   ]
  },
  {
   "cell_type": "code",
   "execution_count": 3,
   "metadata": {},
   "outputs": [],
   "source": [
    "from nltk.corpus import wordnet"
   ]
  },
  {
   "cell_type": "code",
   "execution_count": 4,
   "metadata": {},
   "outputs": [
    {
     "data": {
      "text/plain": [
       "'good'"
      ]
     },
     "execution_count": 4,
     "metadata": {},
     "output_type": "execute_result"
    }
   ],
   "source": [
    "class AntonyReplacer(object):\n",
    "    def negreplace(self, word):\n",
    "        antony=set()\n",
    "        for syn in wordnet.synsets(word):\n",
    "            for lemma in syn.lemmas():\n",
    "                for antonym in lemma.antonyms():\n",
    "                    antony.add(antonym)\n",
    "        if len(antony)==1:\n",
    "            res=antony.pop()\n",
    "            return res.name()\n",
    "        else:\n",
    "            return word\n",
    "        \n",
    "repl=AntonyReplacer()    \n",
    "repl.negreplace('cool')"
   ]
  },
  {
   "cell_type": "code",
   "execution_count": 5,
   "metadata": {},
   "outputs": [
    {
     "data": {
      "text/plain": [
       "'cowardice'"
      ]
     },
     "execution_count": 5,
     "metadata": {},
     "output_type": "execute_result"
    }
   ],
   "source": [
    "repl.negreplace('courage')"
   ]
  },
  {
   "cell_type": "code",
   "execution_count": 6,
   "metadata": {},
   "outputs": [
    {
     "data": {
      "text/plain": [
       "'good'"
      ]
     },
     "execution_count": 6,
     "metadata": {},
     "output_type": "execute_result"
    }
   ],
   "source": [
    "repl.negreplace('good')"
   ]
  },
  {
   "cell_type": "code",
   "execution_count": 7,
   "metadata": {},
   "outputs": [],
   "source": [
    "import os, os.path"
   ]
  },
  {
   "cell_type": "code",
   "execution_count": 8,
   "metadata": {},
   "outputs": [
    {
     "name": "stdout",
     "output_type": "stream",
     "text": [
      "dir already exists\n",
      "True\n"
     ]
    }
   ],
   "source": [
    "nltk_path=os.path.expanduser('~/nltk_data')\n",
    "if not os.path.exists(nltk_path):\n",
    "    os.mkdir(nltk_path)\n",
    "    print('Created dir')\n",
    "else:\n",
    "    print('dir already exists')\n",
    "\n",
    "import nltk.data\n",
    "varbool=nltk_path in nltk.data.path\n",
    "print(varbool)"
   ]
  },
  {
   "cell_type": "code",
   "execution_count": null,
   "metadata": {},
   "outputs": [],
   "source": []
  }
 ],
 "metadata": {
  "kernelspec": {
   "display_name": "Python 3",
   "language": "python",
   "name": "python3"
  },
  "language_info": {
   "codemirror_mode": {
    "name": "ipython",
    "version": 3
   },
   "file_extension": ".py",
   "mimetype": "text/x-python",
   "name": "python",
   "nbconvert_exporter": "python",
   "pygments_lexer": "ipython3",
   "version": "3.7.3"
  }
 },
 "nbformat": 4,
 "nbformat_minor": 2
}
